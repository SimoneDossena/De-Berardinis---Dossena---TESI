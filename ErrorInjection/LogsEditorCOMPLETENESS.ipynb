{
 "cells": [
  {
   "cell_type": "code",
   "execution_count": null,
   "metadata": {},
   "outputs": [],
   "source": [
    "import numpy as np\n",
    "import pandas as pd\n",
    "import time\n",
    "import winsound\n",
    "import random\n",
    "import datetime\n",
    "from datetime import datetime, date, timedelta\n",
    "from scipy import stats\n",
    "\n",
    "parse_dates = ['time']\n",
    "df=pd.read_csv ('finalDFPULITI.csv' , header=0,engine=\"python\", quoting=0, parse_dates=parse_dates)\n",
    "df.head()"
   ]
  },
  {
   "cell_type": "code",
   "execution_count": null,
   "metadata": {},
   "outputs": [],
   "source": [
    "perc = 0.1 # it can be 0,1/0,2/0,3/0,4/0,5\n",
    "errors = 5000*perc"
   ]
  },
  {
   "cell_type": "code",
   "execution_count": null,
   "metadata": {},
   "outputs": [],
   "source": [
    "istanze = 5000\n",
    "for i in range(istanze):\n",
    "    print(i)\n",
    "    coin = random.getrandbits(1)    # To decide whether an error is inserted, a virtual 'coin' is flipped (a random number between 0 and 1 is taken). If the result is 1, the error is injected\n",
    "    if(coin == 1 and errors > 0): \n",
    "        errors = errors - 1         # if the error is injected, the counter that contains the number of errors is decreased\n",
    "        df.loc[(df.case == i) & (df.event == 'event_MESSAGE_CC_receive order request') , 'time'] = np.NaN  #the null is inserted through a np.NaN\n",
    "\n",
    "    coin = random.getrandbits(1)\n",
    "    if(coin == 1 and errors > 0): #NULL for t(paymentReceipt)\n",
    "        df.loc[(df.case == i) & (df.event == 'event_MESSAGE_payment receipt') , 'time'] = np.NaN\n",
    "        errors = errors - 1\n",
    "    \n",
    "    \n",
    "    coin = random.getrandbits(1)\n",
    "    if(coin == 1 and errors > 0): #NULL for fuelUsed\n",
    "        df.loc[(df.case == i) & (df.event == 'manageinstallation_complete') , 'fuelUsed'] = np.NaN\n",
    "        errors = errors - 1\n",
    "    \n",
    "    coin = random.getrandbits(1)\n",
    "    if(coin == 1 and errors > 0): #NULL for status at 'activate the service' event\n",
    "        df.loc[(df.case == i) & (df.event == 'activate the service') , 'status'] = np.NaN\n",
    "        errors = errors - 1\n",
    "    \n",
    "    coin = random.getrandbits(1)\n",
    "    if(coin == 1 and errors > 0): #NULL for status at 'receive installation confirm' event\n",
    "        df.loc[(df.case == i) & (df.event == 'SA_SM_event_MESSAGE_receive installation confirm') , 'status'] = np.NaN\n",
    "        errors = errors - 1\n",
    "    \n",
    "    coin = random.getrandbits(1)\n",
    "    if(coin == 1 and errors > 0): #NULL for t(sendInstallationConfirm)\n",
    "        errors = errors - 1\n",
    "        df.loc[(df.case == i) & (df.event == 'message_sendInstallationConfirmToSA') , 'time'] = np.NaN\n",
    "\n",
    "    coin = random.getrandbits(1)\n",
    "    if(coin == 1 and errors > 0): #NULL paymentTerms\n",
    "        errors = errors - 1\n",
    "        df.loc[(df.case == i) & (df.event == 'event_MESSAGE_send invoice') , 'paymentTerms'] = np.NaN\n",
    "        df.loc[(df.case == i) & (df.event == 'event_MESSAGE_send solicitation with new amount') , 'paymentTerms'] = np.NaN\n",
    "    \n",
    "\n",
    "    \n"
   ]
  },
  {
   "cell_type": "code",
   "execution_count": null,
   "metadata": {},
   "outputs": [],
   "source": [
    "df.set_index(\"case\", inplace = True)\n",
    "df.to_csv('compl' + str(perc) + 'simulationNumber.csv')"
   ]
  }
 ],
 "metadata": {
  "kernelspec": {
   "display_name": "Python 3.9.12 ('base': conda)",
   "language": "python",
   "name": "python3"
  },
  "language_info": {
   "codemirror_mode": {
    "name": "ipython",
    "version": 3
   },
   "file_extension": ".py",
   "mimetype": "text/x-python",
   "name": "python",
   "nbconvert_exporter": "python",
   "pygments_lexer": "ipython3",
   "version": "3.9.12"
  },
  "orig_nbformat": 4,
  "vscode": {
   "interpreter": {
    "hash": "504280a3536780d74b2711a2ff49639776745c762df62083bbe15cc212f4b402"
   }
  }
 },
 "nbformat": 4,
 "nbformat_minor": 2
}
