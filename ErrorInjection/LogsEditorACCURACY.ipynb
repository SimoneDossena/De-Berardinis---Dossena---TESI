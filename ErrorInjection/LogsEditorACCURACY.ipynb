{
 "cells": [
  {
   "cell_type": "code",
   "execution_count": null,
   "metadata": {},
   "outputs": [],
   "source": [
    "import numpy as np\n",
    "import pandas as pd\n",
    "import time\n",
    "import random\n",
    "import datetime\n",
    "from datetime import datetime, date, timedelta\n",
    "from scipy import stats\n",
    "\n",
    "parse_dates = ['time']\n",
    "df=pd.read_csv ('finalDFPULITI.csv' , header=0,engine=\"python\", quoting=0, parse_dates=parse_dates) #upload of the final event log\n"
   ]
  },
  {
   "cell_type": "code",
   "execution_count": null,
   "metadata": {},
   "outputs": [],
   "source": [
    "perc = 0.1 # it can be 0,1/0,2/0,3/0,4/0,5\n",
    "errors = 5000*perc"
   ]
  },
  {
   "cell_type": "code",
   "execution_count": null,
   "metadata": {},
   "outputs": [],
   "source": [
    "istanze = 5000\n",
    "for i in range(istanze):\n",
    "    print(i)\n",
    "    coin = random.getrandbits(1)        # To decide whether an error is inserted, a virtual 'coin' is flipped (a random number between 0 and 1 is taken). If the result is 1, the error is injected\n",
    "    if(coin == 1 and errors > 0):       # Errore sul FUEL\n",
    "        n = np.random.randint(25, 55)   # elements out of boundaries\n",
    "        errors = errors - 1             # if the error is injected, the counter that contains the number of errors is decreased\n",
    "        if(i%2 == 1):                   # since also the negative boundaries can be injected, if the istance number is odd, the value is put as negative, otherwise it remains positive out of boundaries\n",
    "            n = n*(-1)\n",
    "        df.loc[(df.case == i) & (df.event == 'manageinstallation_complete') , 'fuelUsed'] = n\n",
    "\n",
    "    wrongstatus = \"open,inful,completed,finish, inf ul\" # set of wrong values that can be used for status in 'receive installation confirm' event\n",
    "    coin = random.getrandbits(1)\n",
    "    if(coin == 1 and errors > 0): \n",
    "        n = np.random.randint(0,4)\n",
    "        st = wrongstatus.split(\",\")[n]\n",
    "        df.loc[(df.case == i) & (df.event == 'SA_SM_event_MESSAGE_receive installation confirm') , 'status'] = st\n",
    "        errors = errors - 1\n",
    "    \n",
    "    wrongstatus = \"open,active,actv,finish,attivated\"   # set of wrong values that can be used for status in 'activate the service' event\n",
    "    coin = random.getrandbits(1)\n",
    "    if(coin == 1 and errors > 0): \n",
    "        n = np.random.randint(0,4)\n",
    "        st = wrongstatus.split(\",\")[n]\n",
    "        df.loc[(df.case == i) & (df.event == 'activate the service') , 'status'] = st\n",
    "        errors = errors - 1\n",
    "    \n",
    "    coin = random.getrandbits(1)\n",
    "    pt = np.random.randint(-50,1) # payment terms out of boundaries\n",
    "    if(coin == 1 and errors > 0): \n",
    "        \n",
    "        df.loc[(df.case == i) & (df.event == 'event_MESSAGE_send invoice') , 'paymentTerms'] = pt\n",
    "        df.loc[(df.case == i) & (df.event == 'event_MESSAGE_send solicitation with new amount') , 'paymentTerms'] = pt\n",
    "        errors = errors - 1\n",
    "    \n",
    "\n",
    "    \n"
   ]
  },
  {
   "cell_type": "code",
   "execution_count": null,
   "metadata": {},
   "outputs": [],
   "source": [
    "df.set_index(\"case\", inplace = True)\n",
    "df.to_csv('accuracy' + str(perc) + 'simulationNumber.csv')"
   ]
  }
 ],
 "metadata": {
  "kernelspec": {
   "display_name": "Python 3.9.12 ('base': conda)",
   "language": "python",
   "name": "python3"
  },
  "language_info": {
   "codemirror_mode": {
    "name": "ipython",
    "version": 3
   },
   "file_extension": ".py",
   "mimetype": "text/x-python",
   "name": "python",
   "nbconvert_exporter": "python",
   "pygments_lexer": "ipython3",
   "version": "3.9.12"
  },
  "orig_nbformat": 4,
  "vscode": {
   "interpreter": {
    "hash": "504280a3536780d74b2711a2ff49639776745c762df62083bbe15cc212f4b402"
   }
  }
 },
 "nbformat": 4,
 "nbformat_minor": 2
}
